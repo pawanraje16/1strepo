{
  "cells": [
    {
      "cell_type": "markdown",
      "metadata": {
        "id": "view-in-github",
        "colab_type": "text"
      },
      "source": [
        "<a href=\"https://colab.research.google.com/github/pawanraje16/1strepo/blob/main/check.ipynb\" target=\"_parent\"><img src=\"https://colab.research.google.com/assets/colab-badge.svg\" alt=\"Open In Colab\"/></a>"
      ]
    },
    {
      "cell_type": "code",
      "execution_count": null,
      "metadata": {
        "id": "xbW0rpFdBdp7",
        "outputId": "ed02f37b-666c-4db1-d037-00a3d26965c1"
      },
      "outputs": [
        {
          "name": "stdout",
          "output_type": "stream",
          "text": [
            "<class 'pandas.core.frame.DataFrame'>\n",
            "RangeIndex: 23705 entries, 0 to 23704\n",
            "Data columns (total 4 columns):\n",
            " #   Column    Non-Null Count  Dtype \n",
            "---  ------    --------------  ----- \n",
            " 0   filename  23705 non-null  object\n",
            " 1   age       23705 non-null  int64 \n",
            " 2   gender    23705 non-null  object\n",
            " 3   race      23705 non-null  object\n",
            "dtypes: int64(1), object(3)\n",
            "memory usage: 740.9+ KB\n",
            "None\n",
            "                                 filename  age  gender   race\n",
            "0  100_0_0_20170112213500903.jpg.chip.jpg  100    male  white\n",
            "1  100_0_0_20170112215240346.jpg.chip.jpg  100    male  white\n",
            "2  100_1_0_20170110183726390.jpg.chip.jpg  100  female  white\n",
            "3  100_1_0_20170112213001988.jpg.chip.jpg  100  female  white\n",
            "4  100_1_0_20170112213303693.jpg.chip.jpg  100  female  white\n"
          ]
        }
      ],
      "source": [
        "import pandas as pd\n",
        "\n",
        "metadata_path = \"data/processed/metadata.csv\"\n",
        "metadata = pd.read_csv(metadata_path)\n",
        "print(metadata.info())  # Check total rows, columns, and types\n",
        "print(metadata.head())  # Preview the first few rows\n"
      ]
    },
    {
      "cell_type": "code",
      "execution_count": null,
      "metadata": {
        "id": "CWzbj07nBdp9",
        "outputId": "6809bc5e-e861-4edf-9730-883faa2894a1"
      },
      "outputs": [
        {
          "name": "stdout",
          "output_type": "stream",
          "text": [
            "Number of processed images: 23705\n"
          ]
        }
      ],
      "source": [
        "import os\n",
        "\n",
        "processed_images = len([f for f in os.listdir(\"data/processed/\") if f.endswith(\".jpg\")])\n",
        "print(f\"Number of processed images: {processed_images}\")\n"
      ]
    },
    {
      "cell_type": "code",
      "execution_count": null,
      "metadata": {
        "id": "j-hdVY8BBdp9",
        "outputId": "62d7c592-dbb9-4048-ed69-e6ed957be594"
      },
      "outputs": [
        {
          "name": "stdout",
          "output_type": "stream",
          "text": [
            "File exists: False\n"
          ]
        }
      ],
      "source": [
        "import os\n",
        "image_path = \"C:/Users/Vijay Patidar/Desktop/person_doesn't_exist/data/processed/images/88_0_2_20170112223932900.jpg.chip.jpg\"\n",
        "print(\"File exists:\", os.path.exists(image_path))\n"
      ]
    },
    {
      "cell_type": "code",
      "execution_count": null,
      "metadata": {
        "id": "vBKU338eBdp9",
        "outputId": "e5a4fe07-6564-400e-b17e-480daea58763"
      },
      "outputs": [
        {
          "name": "stdout",
          "output_type": "stream",
          "text": [
            "Dataset path: c:\\Users\\Vijay Patidar\\Desktop\\person_doesn't_exist\\data\\processed\\images\n"
          ]
        },
        {
          "ename": "",
          "evalue": "",
          "output_type": "error",
          "traceback": [
            "\u001b[1;31mThe Kernel crashed while executing code in the current cell or a previous cell. \n",
            "\u001b[1;31mPlease review the code in the cell(s) to identify a possible cause of the failure. \n",
            "\u001b[1;31mClick <a href='https://aka.ms/vscodeJupyterKernelCrash'>here</a> for more info. \n",
            "\u001b[1;31mView Jupyter <a href='command:jupyter.viewOutput'>log</a> for further details."
          ]
        }
      ],
      "source": [
        "import os\n",
        "print(\"Dataset path:\", os.path.abspath(\"data/processed/images/\"))\n"
      ]
    },
    {
      "cell_type": "code",
      "execution_count": null,
      "metadata": {
        "id": "UM3HxVrUBdp-"
      },
      "outputs": [],
      "source": []
    }
  ],
  "metadata": {
    "kernelspec": {
      "display_name": "base",
      "language": "python",
      "name": "python3"
    },
    "language_info": {
      "codemirror_mode": {
        "name": "ipython",
        "version": 3
      },
      "file_extension": ".py",
      "mimetype": "text/x-python",
      "name": "python",
      "nbconvert_exporter": "python",
      "pygments_lexer": "ipython3",
      "version": "3.11.5"
    },
    "colab": {
      "provenance": [],
      "include_colab_link": true
    }
  },
  "nbformat": 4,
  "nbformat_minor": 0
}